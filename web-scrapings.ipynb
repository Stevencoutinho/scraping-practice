{
 "cells": [
  {
   "cell_type": "markdown",
   "metadata": {},
   "source": [
    "# Pythonで複数のサイトをwebスクレイピング\n",
    "## webスクレイピング\n",
    "\n",
    ">webスクレイピング（以下、スクレイピング）とは、webサイトのhtmlからプログラムを使って自動的に情報を抽出、整形することです。定期に特定のサイトを複数閲覧する場合、自動的に情報を取得できるようにすれば非常に効率的です。\n",
    "\n",
    "## 今回やりたいこと\n",
    "pythonでスクレイピングした後、取得したデータをメールで送信する。<br>\n",
    "参考サイト同様、礼拝時間・国際ニュース・某出版社のブログの情報を取得するプログラムを実装しました。\n",
    "\n",
    "参考サイト: [https://astrophysik928.hatenablog.com/entry/2018/10/14/224152](https://astrophysik928.hatenablog.com/entry/2018/10/14/224152)"
   ]
  },
  {
   "cell_type": "markdown",
   "metadata": {},
   "source": [
    "## 「BeautifulSoupを使ったスクレイピング」"
   ]
  },
  {
   "cell_type": "code",
   "execution_count": 70,
   "metadata": {},
   "outputs": [],
   "source": [
    "# import\n",
    "import urllib.request\n",
    "from bs4 import BeautifulSoup\n",
    "import re\n",
    "import lxml.html\n",
    "import requests\n",
    "from time import sleep\n",
    "import smtplib\n",
    "from io import StringIO\n",
    "from email.mime.text import MIMEText\n",
    "from email import message\n",
    "import chardet\n",
    "from config import MAIL\n",
    "# mail address\n",
    "from mail import TO_MAIL"
   ]
  },
  {
   "cell_type": "markdown",
   "metadata": {},
   "source": [
    "### 1. config.py\n",
    "同階層に```config.py```というファイルを作成してください\n",
    "\n",
    "```python:config.py\n",
    "MAIL = {\n",
    "  \"host\"      : 'ホスト名',\n",
    "  \"port\"      : 'ポート名',\n",
    "  \"from_email\": '送信元メールアドレス',\n",
    "  \"username\"  : 'ユーザー名（送信元メールアドレスと一緒でいい）',\n",
    "  \"password\"  : 'パスワード'\n",
    "}\n",
    "```\n"
   ]
  },
  {
   "cell_type": "code",
   "execution_count": 71,
   "metadata": {},
   "outputs": [],
   "source": [
    "# config.py\n",
    "from config import MAIL"
   ]
  },
  {
   "cell_type": "markdown",
   "metadata": {},
   "source": [
    "### 2. mail.py\n",
    "同階層に```mail.py```というファイルを作成してください\n",
    "\n",
    "```python:mail.py\n",
    "TOMAIL = '宛先メールアドレス'\n",
    "```"
   ]
  },
  {
   "cell_type": "code",
   "execution_count": 72,
   "metadata": {},
   "outputs": [],
   "source": [
    "# mail.py\n",
    "from mail import TO_MAIL"
   ]
  },
  {
   "cell_type": "markdown",
   "metadata": {},
   "source": [
    "## 1. islamicFinder"
   ]
  },
  {
   "cell_type": "code",
   "execution_count": 64,
   "metadata": {},
   "outputs": [],
   "source": [
    "# get pray time\n",
    "def do_pray_time():\n",
    "    islamic_finder = urllib.request.urlopen(\"https://www.islamicfinder.org/\")\n",
    "    #ここでwebサイトのhtmlを読み込む\n",
    "    islamic_soup = BeautifulSoup(islamic_finder, 'html.parser')\n",
    "    pray_name = [\n",
    "        u\"FAJR\", u\"SUNRISE\", u\"DHUHR\",\n",
    "        u\"ASR\", u\"MAGHRIB\", u\"ISHA\", u\"QIYAM\"\n",
    "    ]\n",
    "    #読み込んだhtmlのh1属性の文字列（サイトの見出しに該当）を取得\n",
    "    pray_header = \"//////Today Pray Time//////\" + islamic_soup.h1.string + \"\\n\"\n",
    "    pray_time = pray_header\n",
    "    #span要素のclass属性が\"todayPrayerTime\"の全てを取得\n",
    "    for i, span_element in enumerate(islamic_soup.findAll(\"span\", class_=\"todayPrayerTime\")):\n",
    "        if(span_element != None):\n",
    "            #取得したspan要素の文字列（礼拝時間）を取得  \n",
    "            pray_time = pray_time + \\\n",
    "                pray_name[i] + \"　\" + span_element.text + \"\\n\"\n",
    "    pray_time = pray_time + \"\\n\\n\\n\"\n",
    "    return pray_time"
   ]
  },
  {
   "cell_type": "markdown",
   "metadata": {},
   "source": [
    "## 2. iranNews"
   ]
  },
  {
   "cell_type": "code",
   "execution_count": 65,
   "metadata": {},
   "outputs": [],
   "source": [
    "# get Iran international news site\n",
    "def do_iran_news():\n",
    "\n",
    "    res = requests.get(\"http://parstoday.com/ja\")\n",
    "\n",
    "    #ニュースサイトのhtmlを取得\n",
    "    iran_international_soup = BeautifulSoup(res.text, 'html.parser')\n",
    "\n",
    "    iran_news_header = '*** Iran international new site ***' + \\\n",
    "        \"\\n\" + \"News ParsToday\" + \"\\n\\n\"\n",
    "\n",
    "    iran_news = iran_news_header\n",
    "\n",
    "    #li要素のclass属性で値が\"item item-separator inline-30\"の箇所を参照、その全てを取得\n",
    "    for i, li_element in enumerate(iran_international_soup.findAll(\"li\", class_=\"item item-separator inline-30\")):\n",
    "\n",
    "        #\"item item-separator inline-30\"の中のdiv要素及びa属性を参照\n",
    "        div = li_element.find(\"div\")\n",
    "        a = li_element.find(\"a\")\n",
    "        if(div != None):\n",
    "\n",
    "            #「div.text」で、ニュースランキングのタイトルを、「a.get(\"href\")」で各ニュースへのリンクを取得\n",
    "            iran_news = iran_news + \\\n",
    "                str(i+1) + \"位\" + \" \" + div.text + \"\\n\" + a.get(\"href\") + \"\\n\\n\"\n",
    "\n",
    "    iran_news = iran_news + \"\\n\\n\\n\"\n",
    "\n",
    "    return iran_news"
   ]
  },
  {
   "cell_type": "code",
   "execution_count": 66,
   "metadata": {},
   "outputs": [],
   "source": [
    "# get rokusaisha blog\n",
    "def do_rokusaisha():\n",
    "    res2 = urllib.request.urlopen(\"http://www.rokusaisha.com/index.php\")\n",
    "    \n",
    "    # ブログのhtmlを取得\n",
    "    rokusaisha_soup = BeautifulSoup(res2, 'html.parser')\n",
    "    \n",
    "    rokusaisha_header = \"********\" + rokusaisha_soup.title.string + \\\n",
    "        \"********\" + \"\\n\" + \"最新ブログ情報\" + \"\\n\\n\"\n",
    "    \n",
    "    rokusaisha = rokusaisha_header\n",
    "    \n",
    "    # id要素のclass属性で値が\"ブログタイトル\"の箇所を参照、その全てを取得\n",
    "    for i, td_element in enumerate(rokusaisha_soup.findAll(\"td\", class_=\"ブログタイトル\")):\n",
    "        if(td_element != None):\n",
    "            # td要素のテキスト（新着ブログのタイトル）を取得\n",
    "            rokusaisha = rokusaisha + td_element.text + \\\n",
    "                \"\\n\" + \"http://www.rokusaisha.com/blog.php\" + \"\\n\\n\"\n",
    "    return rokusaisha"
   ]
  },
  {
   "cell_type": "code",
   "execution_count": 67,
   "metadata": {},
   "outputs": [],
   "source": [
    "# send mail\n",
    "def do_mail(information1, information2, information3):\n",
    "    username = '1484kazuya12@gmail.com'\n",
    "    password = 'bridgestone12'\n",
    "    \n",
    "    # メールの内容を作成\n",
    "    all_information = information1 + information2 + information3\n",
    "    \n",
    "    msg = message.EmailMessage()\n",
    "    msg.set_content(all_information) # メールの本文\n",
    "    msg['Subject'] = 'Today information''' # 件名\n",
    "    msg['From'] = MAIL['from_email'] # メールの送信元\n",
    "    msg['To'] = TO_MAIL # メール送信先\n",
    "    \n",
    "    print(\"Running\")\n",
    "    \n",
    "    server = smtplib.SMTP(MAIL['host'], MAIL['port'])\n",
    "    \n",
    "    server.ehlo()\n",
    "    server.starttls()\n",
    "    server.ehlo()\n",
    "    server.login(MAIL['username'], MAIL['password'])\n",
    "    server.send_message(msg)\n",
    "    server.quit()\n",
    "    \n",
    "    print('Sending mail is completed')"
   ]
  },
  {
   "cell_type": "code",
   "execution_count": 68,
   "metadata": {
    "collapsed": true
   },
   "outputs": [
    {
     "name": "stdout",
     "output_type": "stream",
     "text": [
      "Running\n",
      "Sending mail is completed\n"
     ]
    }
   ],
   "source": [
    "if __name__ == '__main__':\n",
    "    do_mail(do_pray_time(), do_iran_news(), do_rokusaisha())"
   ]
  }
 ],
 "metadata": {
  "kernelspec": {
   "display_name": "Python 3",
   "language": "python",
   "name": "python3"
  },
  "language_info": {
   "codemirror_mode": {
    "name": "ipython",
    "version": 3
   },
   "file_extension": ".py",
   "mimetype": "text/x-python",
   "name": "python",
   "nbconvert_exporter": "python",
   "pygments_lexer": "ipython3",
   "version": "3.7.3"
  }
 },
 "nbformat": 4,
 "nbformat_minor": 2
}
